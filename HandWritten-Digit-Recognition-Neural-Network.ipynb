{
 "cells": [
  {
   "cell_type": "code",
   "execution_count": 1,
   "id": "attempted-recommendation",
   "metadata": {},
   "outputs": [],
   "source": [
    "import numpy as np\n",
    "import matplotlib.pyplot as plt\n"
   ]
  },
  {
   "cell_type": "markdown",
   "id": "subjective-virtue",
   "metadata": {},
   "source": [
    "# **Reading Data**"
   ]
  },
  {
   "cell_type": "markdown",
   "id": "future-philippines",
   "metadata": {},
   "source": [
    "Here we read our data from MNIST data set. You should download the data set and place it in a directory called \"/MNIST Dataset \" next to your code in order to run the code below."
   ]
  },
  {
   "cell_type": "code",
   "execution_count": 2,
   "id": "elegant-smoke",
   "metadata": {},
   "outputs": [
    {
     "data": {
      "image/png": "[encoded data removed]",
      "text/plain": [
       "<Figure size 432x288 with 1 Axes>"
      ]
     },
     "metadata": {
      "needs_background": "light"
     },
     "output_type": "display_data"
    },
    {
     "data": {
      "image/png": "[encoded data removed]",
      "text/plain": [
       "<Figure size 432x288 with 1 Axes>"
      ]
     },
     "metadata": {
      "needs_background": "light"
     },
     "output_type": "display_data"
    }
   ],
   "source": [
    "\n",
    "# A function to plot images\n",
    "def show_image(img):\n",
    "    image = img.reshape((28, 28))\n",
    "    plt.imshow(image, 'gray')\n",
    "\n",
    "\n",
    "# Reading The Train Set\n",
    "train_images_file = open('MNIST Dataset/train-images.idx3-ubyte', 'rb')\n",
    "train_images_file.seek(4)\n",
    "num_of_train_images = int.from_bytes(train_images_file.read(4), 'big')\n",
    "train_images_file.seek(16)\n",
    "\n",
    "train_labels_file = open('MNIST Dataset/train-labels.idx1-ubyte', 'rb')\n",
    "train_labels_file.seek(8)\n",
    "\n",
    "train_set = []\n",
    "train_img = []\n",
    "train_lable = []\n",
    "for n in range(num_of_train_images):\n",
    "    image = np.zeros((784, 1))\n",
    "    for i in range(784):\n",
    "        image[i, 0] = int.from_bytes(train_images_file.read(1), 'big') / 256\n",
    "\n",
    "    label_value = int.from_bytes(train_labels_file.read(1), 'big')\n",
    "    label = np.zeros((10, 1))\n",
    "    label[label_value, 0] = 1\n",
    "\n",
    "    train_set.append((image, label))\n",
    "    train_img.append(image.reshape(784))\n",
    "    train_lable.append(label.reshape(10))\n",
    "\n",
    "\n",
    "# Reading The Test Set\n",
    "test_images_file = open('MNIST Dataset/t10k-images.idx3-ubyte', 'rb')\n",
    "test_images_file.seek(4)\n",
    "\n",
    "test_labels_file = open('MNIST Dataset/t10k-labels.idx1-ubyte', 'rb')\n",
    "test_labels_file.seek(8)\n",
    "\n",
    "num_of_test_images = int.from_bytes(test_images_file.read(4), 'big')\n",
    "test_images_file.seek(16)\n",
    "\n",
    "test_set = []\n",
    "test_img = []\n",
    "shifted_test_img = []\n",
    "test_lable = []\n",
    "for n in range(num_of_test_images):\n",
    "    image = np.zeros((784, 1))\n",
    "    for i in range(784):\n",
    "        image[i] = int.from_bytes(test_images_file.read(1), 'big') / 256\n",
    "\n",
    "    label_value = int.from_bytes(test_labels_file.read(1), 'big')\n",
    "    label = np.zeros((10, 1))\n",
    "    label[label_value, 0] = 1\n",
    "\n",
    "    test_set.append((image, label))\n",
    "    test_img.append(image.reshape(784))\n",
    "    test_lable.append(label.reshape(10))\n",
    "    image = np.roll(image.reshape(28, 28), 4)\n",
    "    for i in range(28):\n",
    "        for j in range(28):\n",
    "            if j<4:\n",
    "                image[i][i]=0\n",
    "                \n",
    "    shifted_test_img.append(image.reshape(784))\n",
    "\n",
    "\n",
    "# Plotting an image\n",
    "show_image(test_img[0])\n",
    "plt.show()\n",
    "show_image(shifted_test_img[0])\n",
    "plt.show()"
   ]
  },
  {
   "cell_type": "markdown",
   "id": "manual-recipe",
   "metadata": {},
   "source": [
    "# **Usefull Functions** "
   ]
  },
  {
   "cell_type": "markdown",
   "id": "previous-transmission",
   "metadata": {},
   "source": [
    "I defined some usefull functions that we need throughout this notebook. There are some activation functions and some other functions defined in the below cell."
   ]
  },
  {
   "cell_type": "code",
   "execution_count": 3,
   "id": "checked-transfer",
   "metadata": {},
   "outputs": [],
   "source": [
    "\n",
    "def sigmoid(x):\n",
    "    return 1 / (1 + np.exp(-x))\n",
    "\n",
    "def derivative_sigmoid(x):\n",
    "    return  sigmoid(x) * (1 - sigmoid(x))\n",
    "\n",
    "def calculate_layers(inputs, w, b, activation=\"sigmoid\"):\n",
    " \n",
    "    if activation == \"sigmoid\":\n",
    "            acv_fun = sigmoid\n",
    "            dacv_fun = derivative_sigmoid\n",
    "    if activation ==  \"relu\":\n",
    "            acv_fun = rectified\n",
    "            dacv_fun = derivative_rectified\n",
    "    if activation ==  \"tanh\":\n",
    "            acv_fun = tanh\n",
    "            dacv_fun = derivative_tanh\n",
    "            \n",
    "            \n",
    "    current = [inputs]\n",
    "    i = 0\n",
    "    for (weight, bias) in zip(w, b):\n",
    "        if i == 2:\n",
    "            current.append(sigmoid(np.dot(weight, current[-1]) + bias))\n",
    "            break\n",
    "        current.append(acv_fun(np.dot(weight, current[-1]) + bias))\n",
    "        i += 1\n",
    "    return current\n",
    "\n",
    "def calculate_z(inputs, w, b, activation=\"sigmoid\"):\n",
    "  \n",
    "    if activation == \"sigmoid\":\n",
    "            acv_fun = sigmoid\n",
    "            dacv_fun = derivative_sigmoid\n",
    "    if activation ==  \"relu\":\n",
    "            acv_fun = rectified\n",
    "            dacv_fun = derivative_rectified\n",
    "    if activation ==  \"tanh\":\n",
    "            acv_fun = tanh\n",
    "            dacv_fun = derivative_tanh\n",
    "            \n",
    "    current = [inputs]\n",
    "    res = []\n",
    "    \n",
    "    for (weight, bias) in zip(w, b):           \n",
    "        res.append(np.dot(weight, current[-1]) + bias)\n",
    "        current.append(acv_fun(np.dot(weight, current[-1]) + bias))\n",
    "    return res\n",
    "\n",
    "def get_accuracy(output, labels):\n",
    "    max_index = 0\n",
    "    true_label = 0\n",
    "    count = 0.0\n",
    "    for i in range(np.shape(output)[0]):\n",
    "        maximum = -1\n",
    "        for j in range(np.shape(output)[1]):\n",
    "            if output[i][j] > maximum:\n",
    "                maximum = output[i][j]\n",
    "                max_index = j\n",
    "            if labels[i][j] == 1:\n",
    "                true_label = j\n",
    "\n",
    "        if max_index == true_label:\n",
    "            count += 1\n",
    "#         else:\n",
    "#             print(f\"{true_label} {max_index}\")\n",
    "    return count/np.shape(output)[0]\n",
    "\n",
    "\n",
    "# rectified linear function\n",
    "def rectified(x):\n",
    "    return np.maximum(0,x)\n",
    "\n",
    "def derivative_rectified(x):\n",
    "    x[x<=0] = 0\n",
    "    x[x>0] = 1\n",
    "    return x\n",
    "\n",
    "def tanh(x):\n",
    "    return np.tanh(x)\n",
    "\n",
    "def derivative_tanh(x):\n",
    "    return 1.0 - (tanh(x)**2)"
   ]
  },
  {
   "cell_type": "markdown",
   "id": "controversial-shift",
   "metadata": {},
   "source": [
    "# **Before Training** "
   ]
  },
  {
   "attachments": {},
   "cell_type": "markdown",
   "id": "comparative-boost",
   "metadata": {},
   "source": [
    "Before I start the training process I need to define some vectores and matrices for weights and biases of my neural network. My network in going to have 2 hidden layers, each containing 16 neurons and the last layer contains 10 neurons which is the number of digit classes we have.\n",
    "\n"
   ]
  },
  {
   "cell_type": "code",
   "execution_count": 4,
   "id": "internal-waterproof",
   "metadata": {},
   "outputs": [],
   "source": [
    "def before_training(activation, size):\n",
    "\n",
    "    W01 = np.random.normal(0, .5, size=(16, 784))\n",
    "    W12 = np.random.normal(0, .5, size=(16, 16))\n",
    "    W23 = np.random.normal(0, .5, size=(10, 16))\n",
    "    b1 = np.zeros((16, 1))\n",
    "    b2 = np.zeros((16, 1))\n",
    "    b3 = np.zeros((10, 1))\n",
    "    weights = [W01, W12, W23]\n",
    "    biases = [b1, b2, b3]\n",
    "\n",
    "\n",
    "    imgs = np.array(test_img[:size]).transpose()\n",
    "    lables = np.array(test_lable[:size]).transpose()\n",
    "\n",
    "    output = calculate_layers(imgs, weights, biases, activation)[-1]\n",
    "    output = np.array(output).transpose()\n",
    "    lables = lables.transpose()\n",
    "\n",
    "\n",
    "    print(f\"Accuracy Before Training: {get_accuracy(output, lables)}\")\n",
    "    return W01, W12, W23, b1, b2, b3\n"
   ]
  },
  {
   "cell_type": "markdown",
   "id": "stuffed-edgar",
   "metadata": {},
   "source": [
    "# **Training**"
   ]
  },
  {
   "cell_type": "markdown",
   "id": "quarterly-sellers",
   "metadata": {},
   "source": [
    "For training the network I used the Stochastic Gradient Decent for the cost function but the activation function comes in a variery of choices:\n",
    "1. Sigmoid Function\n",
    "2. Rectified Linear Unit (ReLU)\n",
    "3. Tanh\n",
    "\n",
    "Note: The purpose of using different types of activation functions was to compare their accuracy anf time and as the first method of trainig is by iteration and is very slow on it self these functions are just implemented on the vectorized training function and the iterative function uses the sigmoid function."
   ]
  },
  {
   "cell_type": "markdown",
   "id": "pretty-peoples",
   "metadata": {},
   "source": [
    "### **Training by iteration**"
   ]
  },
  {
   "cell_type": "markdown",
   "id": "retained-shadow",
   "metadata": {},
   "source": [
    "The goal in this part is to train the network by iterating through all indices in the weighs and biases matrices."
   ]
  },
  {
   "cell_type": "code",
   "execution_count": 5,
   "id": "motivated-attribute",
   "metadata": {},
   "outputs": [],
   "source": [
    "def learning_iterative_sgd(learning_rate, number_of_epochs, batch_size, w_b, number_of_samples):\n",
    "    (W01, W12, W23, b1, b2, b3) = w_b\n",
    "    cost_by_epochs = [[0]*10]*number_of_epochs\n",
    "    samples = train_set[:number_of_samples]\n",
    "    for n in range(number_of_epochs):\n",
    "        np.random.shuffle(samples)\n",
    "        batches = [samples[x:x+batch_size] for x in range(0, number_of_samples, batch_size)]\n",
    "\n",
    "        for batch in batches:\n",
    "            grad_W01 = np.zeros((16, 784))\n",
    "            grad_W12 = np.zeros((16, 16))\n",
    "            grad_W23 = np.zeros((10, 16))\n",
    "\n",
    "            grad_b1 = np.zeros((16, 1))\n",
    "            grad_b2 = np.zeros((16, 1))\n",
    "            grad_b3 = np.zeros((10, 1))\n",
    "\n",
    "            grdad_w = [grad_W01, grad_W12, grad_W23]\n",
    "            grad_b = [grad_b1, grad_b2, grad_b3]\n",
    "\n",
    "\n",
    "            for data in batch:\n",
    "                image = data[0]\n",
    "                label = data[1]\n",
    "\n",
    "                grad_a0 = np.zeros((784, 1))\n",
    "                grad_a1 = np.zeros((16, 1))\n",
    "                grad_a2 = np.zeros((16, 1))\n",
    "\n",
    "                weights = [W01, W12, W23]\n",
    "                biases = [b1, b2, b3]\n",
    "\n",
    "                layers = calculate_layers(np.array(image), weights, biases)\n",
    "                z = calculate_z(np.array(image), weights, biases)\n",
    "\n",
    "                cost = [0.0] * 10\n",
    "                for i in range(10):\n",
    "                    cost[i] += (1.0/number_of_samples) *( (layers[3][i] - label[i]) ** 2 )\n",
    "                cost_by_epochs[n] = [x + y for (x, y) in zip(cost, cost_by_epochs[n])]\n",
    "\n",
    "\n",
    "                # layer number 3\n",
    "                for i in range(np.shape(W23)[0]):\n",
    "                    eq =  2*(layers[3][i]-label[i]) * derivative_sigmoid(z[2][i])\n",
    "                    grad_b3[i] += eq\n",
    "                    for j in range(np.shape(W23)[1]):\n",
    "                        grad_W23[i][j] += eq * layers[2][j]\n",
    "\n",
    "\n",
    "\n",
    "                # layer number 2\n",
    "                # dc/da\n",
    "                for i in range(16):\n",
    "                    for x in range(10):\n",
    "                        grad_a2[i] += 2 * (layers[3][x]-label[x]) * derivative_sigmoid(z[2][x]) * W23[x][i]\n",
    "\n",
    "                 # dc/db , dc/dw\n",
    "                for i in range(np.shape(W12)[0]):\n",
    "                    eq = 2* grad_a2[i] * derivative_sigmoid(z[1][i])\n",
    "                    grad_b2[i] += eq\n",
    "                    for j in range(np.shape(W12)[1]):\n",
    "                        grad_W12[i][j] += eq * layers[1][j]\n",
    "\n",
    "\n",
    "\n",
    "\n",
    "                # layer number 1\n",
    "                # dc/da\n",
    "                for i in range(16):\n",
    "                    for x in range(16):\n",
    "                        grad_a1[i] += 2 * grad_a2[x] * derivative_sigmoid(z[1][x]) * W12[x][i]\n",
    "                     \n",
    "\n",
    "                 # dc/db , dc/dw\n",
    "                for i in range(np.shape(W01)[0]):\n",
    "                    eq = 2* grad_a2[i] * derivative_sigmoid(z[0][i])\n",
    "                    grad_b1[i] += eq\n",
    "                    for j in range(np.shape(W01)[1]):\n",
    "                        grad_W01[i][j] += eq * layers[0][j]\n",
    "\n",
    "\n",
    "            W01 -= learning_rate * (grad_W01 / batch_size)\n",
    "            W12 -= learning_rate * (grad_W12 / batch_size)\n",
    "            W23 -= learning_rate * (grad_W23 / batch_size)\n",
    "\n",
    "            b1 -= learning_rate * (grad_b1 / batch_size)\n",
    "            b2 -= learning_rate * (grad_b2 / batch_size)\n",
    "            b3 -= learning_rate * (grad_b3 / batch_size)\n",
    "\n",
    "    return cost_by_epochs, [W01, W12, W23], [b1, b2, b3]"
   ]
  },
  {
   "cell_type": "markdown",
   "id": "impressed-indiana",
   "metadata": {},
   "source": [
    "### **Training in vectorized form**"
   ]
  },
  {
   "cell_type": "markdown",
   "id": "distinct-gallery",
   "metadata": {},
   "source": [
    "This second approach to training the my neural network is fatser because it doeas all the calculations by matrix operations and it consumes much less amount of time."
   ]
  },
  {
   "cell_type": "code",
   "execution_count": 6,
   "id": "pediatric-relief",
   "metadata": {},
   "outputs": [],
   "source": [
    "def learning_vectorized_sgd(learning_rate, number_of_epochs, batch_size, w_b, number_of_samples, activation=\"sigmoid\"):\n",
    "    \n",
    " \n",
    "    if activation == \"sigmoid\":\n",
    "            acv_fun = sigmoid\n",
    "            dacv_fun = derivative_sigmoid\n",
    "    if activation ==  \"relu\":\n",
    "            acv_fun = rectified\n",
    "            dacv_fun = derivative_rectified\n",
    "    if activation ==  \"tanh\":\n",
    "            acv_fun = tanh\n",
    "            dacv_fun = derivative_tanh\n",
    "    \n",
    "    (W01, W12, W23, b1, b2, b3) = w_b\n",
    "    cost_by_epochs = [[0]*10]*number_of_epochs\n",
    "    samples = train_set[:number_of_samples]\n",
    "    \n",
    "    for n in range(number_of_epochs):\n",
    "        np.random.shuffle(samples)\n",
    "        batches = [samples[x:x+batch_size] for x in range(0, number_of_samples, batch_size)]\n",
    "\n",
    "        for batch in batches:\n",
    "            grad_W01 = np.zeros((16, 784))\n",
    "            grad_W12 = np.zeros((16, 16))\n",
    "            grad_W23 = np.zeros((10, 16))\n",
    "\n",
    "            grad_b1 = np.zeros((16, 1))\n",
    "            grad_b2 = np.zeros((16, 1))\n",
    "            grad_b3 = np.zeros((10, 1))\n",
    "\n",
    "            grdad_w = [grad_W01, grad_W12, grad_W23]\n",
    "            grad_b = [grad_b1, grad_b2, grad_b3]\n",
    "\n",
    "\n",
    "            for data in batch:\n",
    "                image = data[0]\n",
    "                label = data[1]\n",
    "\n",
    "                grad_a0 = np.zeros((784, 1))\n",
    "                grad_a1 = np.zeros((16, 1))\n",
    "                grad_a2 = np.zeros((16, 1))\n",
    "\n",
    "                weights = [W01, W12, W23]\n",
    "                biases = [b1, b2, b3]\n",
    "\n",
    "                layers = calculate_layers(np.array(image), weights, biases, activation)\n",
    "                z = calculate_z(np.array(image), weights, biases, activation)\n",
    "\n",
    "\n",
    "                cost = [0.0] * 10\n",
    "                for i in range(10):\n",
    "                    cost[i] += (1.0/number_of_samples) *( (layers[3][i] - label[i]) ** 2 )\n",
    "                cost_by_epochs[n] = [x + y for (x, y) in zip(cost, cost_by_epochs[n])]\n",
    "\n",
    " \n",
    "\n",
    "                # layer number 3\n",
    "                grad_b3 += (2*(layers[3]-label) * derivative_sigmoid(z[2]))\n",
    "                grad_W23 +=  2*((layers[3]-label) * derivative_sigmoid(z[2])) @ np.transpose(layers[2])\n",
    "                \n",
    "\n",
    "\n",
    "                # layer number 2\n",
    "                # dc/da                                                      \n",
    "                grad_a2 = np.transpose(W23) @ (2* derivative_sigmoid(z[2]) * (layers[3]-label))\n",
    "\n",
    "                # dc/db , dc/dw\n",
    "                grad_b2 += 2* grad_a2 * dacv_fun(z[1])\n",
    "                grad_W12 += 2* grad_a2 * dacv_fun(z[1])  @ np.transpose(layers[1])\n",
    "\n",
    "\n",
    "\n",
    "\n",
    "                # layer number 1\n",
    "                # dc/da\n",
    "                grad_a1 = np.transpose(W12) @ (2 * dacv_fun(z[1]) * grad_a2)\n",
    "\n",
    "\n",
    "                 # dc/db , dc/dw\n",
    "                grad_b1 +=  2* grad_a2 * dacv_fun(z[1])        \n",
    "                grad_W01 +=  2* grad_a1 * dacv_fun(z[0]) @ np.transpose(layers[0])\n",
    "\n",
    "\n",
    "            W01 -= learning_rate * (grad_W01 / batch_size)\n",
    "            W12 -= learning_rate * (grad_W12 / batch_size)\n",
    "            W23 -= learning_rate * (grad_W23 / batch_size)\n",
    "\n",
    "            b1 -= learning_rate * (grad_b1 / batch_size)\n",
    "            b2 -= learning_rate * (grad_b2 / batch_size)\n",
    "            b3 -= learning_rate * (grad_b3 / batch_size)\n",
    "            \n",
    "\n",
    "\n",
    "    return cost_by_epochs, [W01, W12, W23], [b1, b2, b3]"
   ]
  },
  {
   "cell_type": "markdown",
   "id": "irish-integer",
   "metadata": {},
   "source": [
    "# Defining Some function to show results"
   ]
  },
  {
   "cell_type": "markdown",
   "id": "electronic-trigger",
   "metadata": {},
   "source": [
    "The first function shows the result of feeding a number of images from the test set and printing the accuracy of our network to the result of classifying these images. and this function also plots the cost changes during the trainig phase."
   ]
  },
  {
   "cell_type": "code",
   "execution_count": 7,
   "id": "impossible-slave",
   "metadata": {},
   "outputs": [],
   "source": [
    "def show_results_test_data(wghs, bias, size, activation):\n",
    "\n",
    "    imgs = np.array(test_img[:size]).transpose()\n",
    "    lables = np.array(test_lable[:size]).transpose()\n",
    "\n",
    "    output = calculate_layers(imgs, wghs, bias, activation)[-1]\n",
    "    output = np.array(output).transpose()\n",
    "    lables = lables.transpose()\n",
    "\n",
    "    print(f\"Accuracy After Training: {get_accuracy(output, lables)}\")\n",
    "    plt.plot([np.linalg.norm(x)**2 for x in cost_by_epochs])\n",
    "    plt.show"
   ]
  },
  {
   "cell_type": "markdown",
   "id": "asian-montgomery",
   "metadata": {},
   "source": [
    "The second function shows the result of feeding a number of shifted images from the test set and printing the accuracy of our network to the result of classifying these images."
   ]
  },
  {
   "cell_type": "code",
   "execution_count": 8,
   "id": "cathedral-senator",
   "metadata": {},
   "outputs": [],
   "source": [
    "def show_results_4pixel_shifed(wghs, bias, size, activation):\n",
    "\n",
    "    imgs = np.array(shifted_test_img[:size]).transpose()\n",
    "    lables = np.array(test_lable[:size]).transpose()\n",
    "\n",
    "    output = calculate_layers(imgs, wghs, bias, activation)[-1]\n",
    "    output = np.array(output).transpose()\n",
    "    lables = lables.transpose()\n",
    "#     print(output)\n",
    "\n",
    "    print(f\"Accuracy After Training: {get_accuracy(output, lables)}\")\n"
   ]
  },
  {
   "cell_type": "markdown",
   "id": "enclosed-filename",
   "metadata": {},
   "source": [
    "The last function shows the result of feeding a number of images from the train set and printing the accuracy of our network to the result of classifying these images."
   ]
  },
  {
   "cell_type": "code",
   "execution_count": 9,
   "id": "second-picture",
   "metadata": {},
   "outputs": [],
   "source": [
    "def show_results_training_data(wghs, bias, size, activation):\n",
    "\n",
    "    imgs = np.array(train_img[:size]).transpose()\n",
    "    lables = np.array(train_lable[:size]).transpose()\n",
    "\n",
    "    output = calculate_layers(imgs, wghs, bias, activation)[-1]\n",
    "    output = np.array(output).transpose()\n",
    "    lables = lables.transpose()\n",
    "#     print(output)\n",
    "\n",
    "    print(f\"Accuracy After Training: {get_accuracy(output, lables)}\")\n"
   ]
  },
  {
   "cell_type": "markdown",
   "id": "operating-munich",
   "metadata": {},
   "source": [
    "# Testing our NN"
   ]
  },
  {
   "cell_type": "markdown",
   "id": "tracked-subscription",
   "metadata": {},
   "source": [
    "### Testing our iterating function for trainig the network"
   ]
  },
  {
   "cell_type": "markdown",
   "id": "declared-receipt",
   "metadata": {},
   "source": [
    "First thing we do is to randomly create our wights and biases matrices and to calculate the accuracy before doing ant trainings on the network."
   ]
  },
  {
   "cell_type": "code",
   "execution_count": 10,
   "id": "incoming-witness",
   "metadata": {
    "scrolled": true
   },
   "outputs": [
    {
     "name": "stdout",
     "output_type": "stream",
     "text": [
      "Accuracy Before Training: 0.11\n"
     ]
    }
   ],
   "source": [
    "W01, W12, W23, b1, b2, b3 = before_training(\"sigmoid\", 100)\n",
    "weights_biases = (W01, W12, W23, b1, b2, b3)"
   ]
  },
  {
   "cell_type": "markdown",
   "id": "lovely-footage",
   "metadata": {},
   "source": [
    "Next we train our network by feeding the first 100 images into the neural network from our train set and then training it by backpropagation. \n",
    "Here are some measurements we used to train our network:\n",
    "\n",
    "Learning Rate: 1 <br>\n",
    "Number of Epochs: 20 <br>\n",
    "Batch Size: 10 <br>\n",
    "Number of samples: 100 <br>\n",
    "Activation function: Sigmoid <br>\n",
    "_________________________\n",
    "\n",
    "Accuracy before training: 0.15 <br>\n",
    "Wall time of running the training function: 1min 11s <br>\n",
    "Accuracy after training: 0.65 <br>"
   ]
  },
  {
   "cell_type": "code",
   "execution_count": 11,
   "id": "foreign-pastor",
   "metadata": {},
   "outputs": [
    {
     "name": "stdout",
     "output_type": "stream",
     "text": [
      "Wall time: 1min 6s\n"
     ]
    }
   ],
   "source": [
    "%%time\n",
    "cost_by_epochs, weights1, biases1 = learning_iterative_sgd(learning_rate=1, number_of_epochs=20, batch_size=10, w_b=weights_biases, number_of_samples=100)"
   ]
  },
  {
   "cell_type": "code",
   "execution_count": 12,
   "id": "expanded-garden",
   "metadata": {},
   "outputs": [
    {
     "name": "stdout",
     "output_type": "stream",
     "text": [
      "Accuracy After Training: 0.61\n"
     ]
    },
    {
     "data": {
      "image/png": "[encoded data removed]",
      "text/plain": [
       "<Figure size 432x288 with 1 Axes>"
      ]
     },
     "metadata": {
      "needs_background": "light"
     },
     "output_type": "display_data"
    }
   ],
   "source": [
    "show_results_test_data(weights1, biases1, 100, \"sigmoid\")"
   ]
  },
  {
   "cell_type": "markdown",
   "id": "dense-rachel",
   "metadata": {},
   "source": [
    "### Testing our vectorized function for trainig the network "
   ]
  },
  {
   "cell_type": "markdown",
   "id": "postal-gabriel",
   "metadata": {},
   "source": [
    "Now in order to compare time consumed by each or the iterative and vectorized functions for network trainig, we train the network with the same measurements by our vectorized function."
   ]
  },
  {
   "cell_type": "code",
   "execution_count": 13,
   "id": "residential-creature",
   "metadata": {},
   "outputs": [
    {
     "name": "stdout",
     "output_type": "stream",
     "text": [
      "Wall time: 958 ms\n"
     ]
    }
   ],
   "source": [
    "%%time\n",
    "cost_by_epochs, weights21, biases21 = learning_vectorized_sgd(1, 20, 10, weights_biases, number_of_samples=100, activation=\"sigmoid\")"
   ]
  },
  {
   "cell_type": "code",
   "execution_count": 14,
   "id": "focal-above",
   "metadata": {},
   "outputs": [
    {
     "name": "stdout",
     "output_type": "stream",
     "text": [
      "Accuracy After Training: 0.64\n"
     ]
    },
    {
     "data": {
      "image/png": "[encoded data removed]",
      "text/plain": [
       "<Figure size 432x288 with 1 Axes>"
      ]
     },
     "metadata": {
      "needs_background": "light"
     },
     "output_type": "display_data"
    }
   ],
   "source": [
    "show_results_test_data(weights21, biases21, 100, activation=\"sigmoid\")"
   ]
  },
  {
   "cell_type": "markdown",
   "id": "backed-hawaii",
   "metadata": {},
   "source": [
    "######  Conclusion"
   ]
  },
  {
   "cell_type": "markdown",
   "id": "analyzed-halloween",
   "metadata": {},
   "source": [
    "The vectorized functions consumes mush less amount of time compared to the iterative function: <br>\n",
    "Vectorized Wall Time of Training: 749ms <br>\n",
    "Iterative Wall Time of Training: 1min 11s\n",
    "_________________________"
   ]
  },
  {
   "cell_type": "markdown",
   "id": "terminal-magnet",
   "metadata": {},
   "source": [
    "If we increase the epoch size of the vectorized function by 200 we will get the following results:<br>\n",
    "earning Rate: 1 <br>\n",
    "Number of Epochs: 200<br>\n",
    "Batch Size: 10<br>\n",
    "Number of samples: 1000<br>\n",
    "Activation function: Sigmoid<br>\n",
    "\n",
    "Accuracy before training: 0.14<br>\n",
    "Wall time of running the training function: 8.15s<br>\n",
    "Accuracy after training: 0.61<br>"
   ]
  },
  {
   "cell_type": "code",
   "execution_count": 15,
   "id": "confident-gauge",
   "metadata": {},
   "outputs": [
    {
     "name": "stdout",
     "output_type": "stream",
     "text": [
      "Accuracy Before Training: 0.15\n"
     ]
    }
   ],
   "source": [
    "W01, W12, W23, b1, b2, b3 = before_training(\"sigmoid\", 100)\n",
    "weights_biases = (W01, W12, W23, b1, b2, b3)"
   ]
  },
  {
   "cell_type": "code",
   "execution_count": 16,
   "id": "second-youth",
   "metadata": {},
   "outputs": [
    {
     "name": "stdout",
     "output_type": "stream",
     "text": [
      "Wall time: 7.63 s\n"
     ]
    }
   ],
   "source": [
    "%%time\n",
    "cost_by_epochs, weights21, biases21 = learning_vectorized_sgd(1, 200, 10, weights_biases, number_of_samples=100, activation=\"sigmoid\")"
   ]
  },
  {
   "cell_type": "markdown",
   "id": "athletic-healing",
   "metadata": {},
   "source": [
    "### Sigmoid VS Tanh"
   ]
  },
  {
   "cell_type": "markdown",
   "id": "talented-brake",
   "metadata": {},
   "source": [
    "##### 1. Sigmoid Activation Function"
   ]
  },
  {
   "cell_type": "markdown",
   "id": "fatal-improvement",
   "metadata": {},
   "source": [
    "First thing we do is to randomly create our wights and biases matrices and to calculate the accuracy before doing ant trainings on the network."
   ]
  },
  {
   "cell_type": "code",
   "execution_count": 17,
   "id": "golden-billy",
   "metadata": {},
   "outputs": [
    {
     "name": "stdout",
     "output_type": "stream",
     "text": [
      "Accuracy Before Training: 0.106\n"
     ]
    }
   ],
   "source": [
    "W01, W12, W23, b1, b2, b3 = before_training(\"sigmoid\", 500)\n",
    "weights_biases = (W01, W12, W23, b1, b2, b3)"
   ]
  },
  {
   "cell_type": "markdown",
   "id": "intimate-dispatch",
   "metadata": {},
   "source": [
    "\n",
    "Learning Rate: 1 <br>\n",
    "Number of Epochs: 200 <br>\n",
    "Batch Size: 10<br>\n",
    "Number of samples: 500<br>\n",
    "Activation function: Sigmoid<br>\n",
    "\n",
    "_________________________\n",
    "\n",
    "Accuracy before training: 0.08<br>\n",
    "Wall time of running the training function: 39.3s<br>\n",
    "Accuracy after training: 0.789<br>"
   ]
  },
  {
   "cell_type": "code",
   "execution_count": 18,
   "id": "french-reservoir",
   "metadata": {},
   "outputs": [
    {
     "name": "stdout",
     "output_type": "stream",
     "text": [
      "Wall time: 37.8 s\n"
     ]
    }
   ],
   "source": [
    "%%time\n",
    "cost_by_epochs, weights21, biases21 = learning_vectorized_sgd(1, 200, 10, weights_biases, number_of_samples=500, activation=\"sigmoid\")"
   ]
  },
  {
   "cell_type": "code",
   "execution_count": 19,
   "id": "genuine-textbook",
   "metadata": {},
   "outputs": [
    {
     "name": "stdout",
     "output_type": "stream",
     "text": [
      "Accuracy After Training: 0.78\n"
     ]
    },
    {
     "data": {
      "image/png": "[encoded data removed]",
      "text/plain": [
       "<Figure size 432x288 with 1 Axes>"
      ]
     },
     "metadata": {
      "needs_background": "light"
     },
     "output_type": "display_data"
    }
   ],
   "source": [
    "show_results_test_data(weights21, biases21, 1000, activation=\"sigmoid\")"
   ]
  },
  {
   "cell_type": "markdown",
   "id": "acceptable-correction",
   "metadata": {},
   "source": [
    "##### 2. Tanh Activation Function"
   ]
  },
  {
   "cell_type": "markdown",
   "id": "seven-nigeria",
   "metadata": {},
   "source": [
    "First thing we do is to randomly create our wights and biases matrices and to calculate the accuracy before doing ant trainings on the network."
   ]
  },
  {
   "cell_type": "code",
   "execution_count": 20,
   "id": "objective-advocate",
   "metadata": {},
   "outputs": [
    {
     "name": "stdout",
     "output_type": "stream",
     "text": [
      "Accuracy Before Training: 0.11\n"
     ]
    }
   ],
   "source": [
    "W01, W12, W23, b1, b2, b3 = before_training(\"tanh\", 500)\n",
    "weights_biases = (W01, W12, W23, b1, b2, b3)"
   ]
  },
  {
   "cell_type": "markdown",
   "id": "primary-depression",
   "metadata": {},
   "source": [
    "\n",
    "Learning Rate: 1 <br>\n",
    "Number of Epochs: 200<br>\n",
    "Batch Size: 10<br>\n",
    "Number of samples: 500<br>\n",
    "Activation function: Tanh<br>\n",
    "\n",
    "______________________\n",
    "\n",
    "Accuracy before training: 0.082<br>\n",
    "Wall time of running the training function: 35.3s<br>\n",
    "Accuracy after training: 0.635<br>"
   ]
  },
  {
   "cell_type": "code",
   "execution_count": 21,
   "id": "fantastic-lighting",
   "metadata": {},
   "outputs": [
    {
     "name": "stdout",
     "output_type": "stream",
     "text": [
      "Wall time: 33.2 s\n"
     ]
    }
   ],
   "source": [
    "%%time\n",
    "cost_by_epochs, weights22, biases22 = learning_vectorized_sgd(1, 200, 10, weights_biases, number_of_samples=500, activation=\"tanh\")"
   ]
  },
  {
   "cell_type": "code",
   "execution_count": 22,
   "id": "sized-mustang",
   "metadata": {},
   "outputs": [
    {
     "name": "stdout",
     "output_type": "stream",
     "text": [
      "Accuracy After Training: 0.655\n"
     ]
    },
    {
     "data": {
      "image/png": "[encoded data removed]",
      "text/plain": [
       "<Figure size 432x288 with 1 Axes>"
      ]
     },
     "metadata": {
      "needs_background": "light"
     },
     "output_type": "display_data"
    }
   ],
   "source": [
    "show_results_test_data(weights22, biases22, 1000, activation=\"tanh\")"
   ]
  },
  {
   "cell_type": "markdown",
   "id": "fabulous-lindsay",
   "metadata": {},
   "source": [
    "###### Comparing Sigmoid and Tanh"
   ]
  },
  {
   "cell_type": "markdown",
   "id": "otherwise-satisfaction",
   "metadata": {},
   "source": [
    "By compiling the cells above for a number ot times and comparing the results we can find out that the tanh is slightly faster than the sigmoid function but its accuracy after trainig will be lower."
   ]
  },
  {
   "cell_type": "markdown",
   "id": "attempted-milan",
   "metadata": {},
   "source": [
    "### Testing the entire dataset"
   ]
  },
  {
   "cell_type": "markdown",
   "id": "happy-alexandria",
   "metadata": {},
   "source": [
    "First thing we do is to randomly create our wights and biases matrices and to calculate the accuracy before doing ant trainings on the network."
   ]
  },
  {
   "cell_type": "code",
   "execution_count": 23,
   "id": "posted-pursuit",
   "metadata": {},
   "outputs": [
    {
     "name": "stdout",
     "output_type": "stream",
     "text": [
      "Accuracy Before Training: 0.0905\n"
     ]
    }
   ],
   "source": [
    "W01, W12, W23, b1, b2, b3 = before_training(\"sigmoid\", 60000)\n",
    "weights_biases = (W01, W12, W23, b1, b2, b3)"
   ]
  },
  {
   "cell_type": "markdown",
   "id": "transsexual-rachel",
   "metadata": {},
   "source": [
    "Next we train our network by feeding the entire train images into the neural network and then training it by backpropagation. Here are some measurements we used to train our network:\n",
    "\n",
    "Learning Rate: 1 <br>\n",
    "Number of Epochs: 5 <br>\n",
    "Batch Size: 50 <br>\n",
    "Number of samples: 60000 <br>\n",
    "Activation function: Sigmoid <br>\n",
    "\n",
    "_________________________\n",
    "\n",
    "Accuracy before training: 0.11 <br>\n",
    "Wall time of running the training function: 1min 55s <br>\n",
    "Accuracy of test set after training: 0.92 <br>\n",
    "Accuracy of test set with 4 pixel shif after training: 0.29 <br>\n",
    "Accuracy of train set after training: 0.93 <br>"
   ]
  },
  {
   "cell_type": "code",
   "execution_count": 24,
   "id": "private-proposal",
   "metadata": {},
   "outputs": [
    {
     "name": "stdout",
     "output_type": "stream",
     "text": [
      "Wall time: 1min 58s\n"
     ]
    }
   ],
   "source": [
    "%%time\n",
    "cost_by_epochs, weights3, biases3 = learning_vectorized_sgd(1, 5, 50, weights_biases, number_of_samples=60000, activation = \"sigmoid\")"
   ]
  },
  {
   "cell_type": "code",
   "execution_count": 25,
   "id": "injured-bhutan",
   "metadata": {},
   "outputs": [
    {
     "name": "stdout",
     "output_type": "stream",
     "text": [
      "Accuracy After Training: 0.9324\n"
     ]
    },
    {
     "data": {
      "image/png": "[encoded data removed]",
      "text/plain": [
       "<Figure size 432x288 with 1 Axes>"
      ]
     },
     "metadata": {
      "needs_background": "light"
     },
     "output_type": "display_data"
    }
   ],
   "source": [
    "show_results_test_data(weights3, biases3, 60000, \"sigmoid\")"
   ]
  },
  {
   "cell_type": "code",
   "execution_count": 26,
   "id": "opponent-brook",
   "metadata": {},
   "outputs": [
    {
     "name": "stdout",
     "output_type": "stream",
     "text": [
      "Accuracy After Training: 0.3227\n"
     ]
    }
   ],
   "source": [
    "show_results_4pixel_shifed(weights3, biases3, 60000, \"sigmoid\")"
   ]
  },
  {
   "cell_type": "code",
   "execution_count": 27,
   "id": "particular-tiffany",
   "metadata": {},
   "outputs": [
    {
     "name": "stdout",
     "output_type": "stream",
     "text": [
      "Accuracy After Training: 0.9415\n"
     ]
    }
   ],
   "source": [
    "show_results_training_data(weights3, biases3, 60000, \"sigmoid\")"
   ]
  },
  {
   "cell_type": "markdown",
   "id": "standing-appreciation",
   "metadata": {},
   "source": [
    "###### Conclusion"
   ]
  },
  {
   "cell_type": "markdown",
   "id": "cooked-invitation",
   "metadata": {},
   "source": [
    "The reason of the decrease in the accuracy of the 4pixel shifted test set is that the network is treained in the ways to set the weights ans biases for some exact input neurons, meaning that by changing those neurons the network will still apply the same amount of importantness to those despite the fact that our numbers have shifted by 4pixels and those neurons do not represent the numbered pixels of the image."
   ]
  }
 ],
 "metadata": {
  "kernelspec": {
   "display_name": "Python 3",
   "language": "python",
   "name": "python3"
  },
  "language_info": {
   "codemirror_mode": {
    "name": "ipython",
    "version": 3
   },
   "file_extension": ".py",
   "mimetype": "text/x-python",
   "name": "python",
   "nbconvert_exporter": "python",
   "pygments_lexer": "ipython3",
   "version": "3.8.8"
  }
 },
 "nbformat": 4,
 "nbformat_minor": 5
}
